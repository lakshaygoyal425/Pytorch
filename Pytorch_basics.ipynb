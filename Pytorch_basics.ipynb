{
  "nbformat": 4,
  "nbformat_minor": 0,
  "metadata": {
    "colab": {
      "name": "Pytorch basics.ipynb",
      "version": "0.3.2",
      "provenance": [],
      "include_colab_link": true
    },
    "kernelspec": {
      "name": "python3",
      "display_name": "Python 3"
    }
  },
  "cells": [
    {
      "cell_type": "markdown",
      "metadata": {
        "id": "view-in-github",
        "colab_type": "text"
      },
      "source": [
        "<a href=\"https://colab.research.google.com/github/lakshaygoyal425/Pytorch/blob/master/Pytorch_basics.ipynb\" target=\"_parent\"><img src=\"https://colab.research.google.com/assets/colab-badge.svg\" alt=\"Open In Colab\"/></a>"
      ]
    },
    {
      "cell_type": "code",
      "metadata": {
        "id": "sTN4Kaa1kqvb",
        "colab_type": "code",
        "colab": {}
      },
      "source": [
        "from __future__ import print_function\n",
        "import torch"
      ],
      "execution_count": 0,
      "outputs": []
    },
    {
      "cell_type": "code",
      "metadata": {
        "id": "2smAj0srk-Qk",
        "colab_type": "code",
        "colab": {
          "base_uri": "https://localhost:8080/",
          "height": 104
        },
        "outputId": "b3ab3bf6-abe5-437a-cf4b-17f53db1793e"
      },
      "source": [
        "x = torch.empty(5,3)\n",
        "print(x)"
      ],
      "execution_count": 3,
      "outputs": [
        {
          "output_type": "stream",
          "text": [
            "tensor([[4.7794e-36, 0.0000e+00, 3.3631e-44],\n",
            "        [0.0000e+00,        nan, 0.0000e+00],\n",
            "        [1.1578e+27, 1.1362e+30, 7.1547e+22],\n",
            "        [4.5828e+30, 1.2121e+04, 7.1846e+22],\n",
            "        [9.2198e-39, 0.0000e+00, 0.0000e+00]])\n"
          ],
          "name": "stdout"
        }
      ]
    },
    {
      "cell_type": "code",
      "metadata": {
        "id": "rx4GwoAjlfvJ",
        "colab_type": "code",
        "colab": {
          "base_uri": "https://localhost:8080/",
          "height": 104
        },
        "outputId": "a7578807-4ea2-4bdf-b023-17c48a6b2d26"
      },
      "source": [
        "x = torch.rand(5,3)\n",
        "print(x)"
      ],
      "execution_count": 4,
      "outputs": [
        {
          "output_type": "stream",
          "text": [
            "tensor([[0.9237, 0.7377, 0.0812],\n",
            "        [0.5629, 0.2743, 0.2362],\n",
            "        [0.9565, 0.9275, 0.9916],\n",
            "        [0.3160, 0.3572, 0.9022],\n",
            "        [0.7796, 0.2045, 0.3159]])\n"
          ],
          "name": "stdout"
        }
      ]
    },
    {
      "cell_type": "code",
      "metadata": {
        "id": "kzUT6cAtlpeb",
        "colab_type": "code",
        "colab": {
          "base_uri": "https://localhost:8080/",
          "height": 104
        },
        "outputId": "c1d74928-a6f3-4caf-9ee7-0f53ad499ba6"
      },
      "source": [
        "x = torch.ones(5,3 , dtype=torch.long)\n",
        "print(x)"
      ],
      "execution_count": 5,
      "outputs": [
        {
          "output_type": "stream",
          "text": [
            "tensor([[1, 1, 1],\n",
            "        [1, 1, 1],\n",
            "        [1, 1, 1],\n",
            "        [1, 1, 1],\n",
            "        [1, 1, 1]])\n"
          ],
          "name": "stdout"
        }
      ]
    },
    {
      "cell_type": "code",
      "metadata": {
        "id": "JBGRyrc3l4_5",
        "colab_type": "code",
        "colab": {
          "base_uri": "https://localhost:8080/",
          "height": 34
        },
        "outputId": "a7e53a94-0717-4735-e24d-f048111be1a8"
      },
      "source": [
        "x = torch.tensor([5.3,4])\n",
        "print(x)"
      ],
      "execution_count": 6,
      "outputs": [
        {
          "output_type": "stream",
          "text": [
            "tensor([5.3000, 4.0000])\n"
          ],
          "name": "stdout"
        }
      ]
    },
    {
      "cell_type": "code",
      "metadata": {
        "id": "AuIHGRI9mB0A",
        "colab_type": "code",
        "colab": {
          "base_uri": "https://localhost:8080/",
          "height": 191
        },
        "outputId": "557bc426-c2b1-42e8-e573-3569d61cc4d1"
      },
      "source": [
        "x = x.new_ones(5,3,dtype=torch.double)\n",
        "print(x)\n",
        "\n",
        "x = torch.randn_like(x , dtype=torch.float)\n",
        "print(x)"
      ],
      "execution_count": 9,
      "outputs": [
        {
          "output_type": "stream",
          "text": [
            "tensor([[1., 1., 1.],\n",
            "        [1., 1., 1.],\n",
            "        [1., 1., 1.],\n",
            "        [1., 1., 1.],\n",
            "        [1., 1., 1.]], dtype=torch.float64)\n",
            "tensor([[ 0.5203,  0.4406, -1.3187],\n",
            "        [ 0.8093,  1.6915,  0.2524],\n",
            "        [ 0.3587, -0.3087,  0.4253],\n",
            "        [-0.2142, -1.0672, -0.3767],\n",
            "        [ 0.2627, -0.1250,  0.6398]])\n"
          ],
          "name": "stdout"
        }
      ]
    },
    {
      "cell_type": "code",
      "metadata": {
        "id": "I3tfqp9dmqu1",
        "colab_type": "code",
        "colab": {
          "base_uri": "https://localhost:8080/",
          "height": 34
        },
        "outputId": "761ae053-1153-4171-a517-cade239ad042"
      },
      "source": [
        "print(x.size())"
      ],
      "execution_count": 10,
      "outputs": [
        {
          "output_type": "stream",
          "text": [
            "torch.Size([5, 3])\n"
          ],
          "name": "stdout"
        }
      ]
    },
    {
      "cell_type": "code",
      "metadata": {
        "id": "ygbaS5npnBeX",
        "colab_type": "code",
        "colab": {
          "base_uri": "https://localhost:8080/",
          "height": 104
        },
        "outputId": "6f970a46-cdc8-4c34-ba90-a03209fb49e2"
      },
      "source": [
        "y = torch.rand(5,3)\n",
        "print(x)"
      ],
      "execution_count": 11,
      "outputs": [
        {
          "output_type": "stream",
          "text": [
            "tensor([[ 0.5203,  0.4406, -1.3187],\n",
            "        [ 0.8093,  1.6915,  0.2524],\n",
            "        [ 0.3587, -0.3087,  0.4253],\n",
            "        [-0.2142, -1.0672, -0.3767],\n",
            "        [ 0.2627, -0.1250,  0.6398]])\n"
          ],
          "name": "stdout"
        }
      ]
    },
    {
      "cell_type": "code",
      "metadata": {
        "id": "oP9tOceknezR",
        "colab_type": "code",
        "colab": {
          "base_uri": "https://localhost:8080/",
          "height": 104
        },
        "outputId": "05999820-540b-4c71-fbe5-d0c0ac0cb5f3"
      },
      "source": [
        "print(x+y)     #  print(torch.add(x+y))"
      ],
      "execution_count": 12,
      "outputs": [
        {
          "output_type": "stream",
          "text": [
            "tensor([[ 1.1027,  1.3366, -0.9305],\n",
            "        [ 1.3422,  2.1511,  0.9309],\n",
            "        [ 0.6979,  0.5797,  1.0829],\n",
            "        [-0.1669, -0.5749, -0.1771],\n",
            "        [ 0.8363,  0.4596,  1.0579]])\n"
          ],
          "name": "stdout"
        }
      ]
    },
    {
      "cell_type": "code",
      "metadata": {
        "id": "9y-RrdPYngz4",
        "colab_type": "code",
        "colab": {
          "base_uri": "https://localhost:8080/",
          "height": 34
        },
        "outputId": "89e935dd-e169-40db-d425-0c95b3ae5633"
      },
      "source": [
        "result = torch.empty(5,3)\n",
        "torch.add(5,3,out=result)\n",
        "print(result)"
      ],
      "execution_count": 14,
      "outputs": [
        {
          "output_type": "stream",
          "text": [
            "tensor(8.)\n"
          ],
          "name": "stdout"
        }
      ]
    },
    {
      "cell_type": "code",
      "metadata": {
        "id": "2cOkhh-8n7Ds",
        "colab_type": "code",
        "colab": {
          "base_uri": "https://localhost:8080/",
          "height": 104
        },
        "outputId": "26985836-d25b-45ae-8a79-aa71e4af535f"
      },
      "source": [
        "# adds x to y\n",
        "y.add_(x)\n",
        "print(y)"
      ],
      "execution_count": 15,
      "outputs": [
        {
          "output_type": "stream",
          "text": [
            "tensor([[ 1.1027,  1.3366, -0.9305],\n",
            "        [ 1.3422,  2.1511,  0.9309],\n",
            "        [ 0.6979,  0.5797,  1.0829],\n",
            "        [-0.1669, -0.5749, -0.1771],\n",
            "        [ 0.8363,  0.4596,  1.0579]])\n"
          ],
          "name": "stdout"
        }
      ]
    },
    {
      "cell_type": "code",
      "metadata": {
        "id": "_AxrSR5WoFA8",
        "colab_type": "code",
        "colab": {
          "base_uri": "https://localhost:8080/",
          "height": 173
        },
        "outputId": "3cc93f79-60fc-411b-b7d9-81c15a296d49"
      },
      "source": [
        "x = torch.randn(4, 4)\n",
        "print(x)\n",
        "y = x.view(16)\n",
        "print(y)\n",
        "z = x.view(-1, 8)  # the size -1 is inferred from other dimensions\n",
        "print(z)\n",
        "print(x.size(), y.size(), z.size())"
      ],
      "execution_count": 16,
      "outputs": [
        {
          "output_type": "stream",
          "text": [
            "tensor([[ 0.3772,  1.4799, -0.6033,  0.8764],\n",
            "        [-2.2298, -0.7859,  1.4260, -0.9443],\n",
            "        [-1.3802,  1.4097, -1.1398, -1.8639],\n",
            "        [ 1.0936,  1.2126,  0.0773, -0.0454]])\n",
            "tensor([ 0.3772,  1.4799, -0.6033,  0.8764, -2.2298, -0.7859,  1.4260, -0.9443,\n",
            "        -1.3802,  1.4097, -1.1398, -1.8639,  1.0936,  1.2126,  0.0773, -0.0454])\n",
            "tensor([[ 0.3772,  1.4799, -0.6033,  0.8764, -2.2298, -0.7859,  1.4260, -0.9443],\n",
            "        [-1.3802,  1.4097, -1.1398, -1.8639,  1.0936,  1.2126,  0.0773, -0.0454]])\n",
            "torch.Size([4, 4]) torch.Size([16]) torch.Size([2, 8])\n"
          ],
          "name": "stdout"
        }
      ]
    },
    {
      "cell_type": "code",
      "metadata": {
        "id": "yE242-KxqDti",
        "colab_type": "code",
        "colab": {
          "base_uri": "https://localhost:8080/",
          "height": 52
        },
        "outputId": "32cacf39-11a3-44a1-8773-cf4a8134c3dc"
      },
      "source": [
        "#If you have a one element tensor, use .item() to get the value as a Python number\n",
        "x = torch.randn(1)\n",
        "print(x)\n",
        "print(x.item())"
      ],
      "execution_count": 17,
      "outputs": [
        {
          "output_type": "stream",
          "text": [
            "tensor([-0.7759])\n",
            "-0.7758641839027405\n"
          ],
          "name": "stdout"
        }
      ]
    },
    {
      "cell_type": "code",
      "metadata": {
        "id": "tk7rs0-_qT7k",
        "colab_type": "code",
        "colab": {
          "base_uri": "https://localhost:8080/",
          "height": 34
        },
        "outputId": "0cf89ab7-59cc-4074-aba9-1e0be6a9a0d0"
      },
      "source": [
        "a = torch.ones(5,dtype=torch.int)\n",
        "print(a)"
      ],
      "execution_count": 18,
      "outputs": [
        {
          "output_type": "stream",
          "text": [
            "tensor([1, 1, 1, 1, 1], dtype=torch.int32)\n"
          ],
          "name": "stdout"
        }
      ]
    },
    {
      "cell_type": "code",
      "metadata": {
        "id": "rY8TdwbFqhAN",
        "colab_type": "code",
        "colab": {
          "base_uri": "https://localhost:8080/",
          "height": 34
        },
        "outputId": "62dce218-b9ad-4bd8-b95d-e3fb7bb70f76"
      },
      "source": [
        "b = a.numpy()\n",
        "print(b)"
      ],
      "execution_count": 19,
      "outputs": [
        {
          "output_type": "stream",
          "text": [
            "[1 1 1 1 1]\n"
          ],
          "name": "stdout"
        }
      ]
    },
    {
      "cell_type": "code",
      "metadata": {
        "id": "HrM7_9dyqqpg",
        "colab_type": "code",
        "colab": {
          "base_uri": "https://localhost:8080/",
          "height": 52
        },
        "outputId": "991a2d25-6702-4c28-84ec-6f0c96d0c876"
      },
      "source": [
        "import numpy as np\n",
        "a = np.ones(5)\n",
        "b = torch.from_numpy(a)\n",
        "np.add(a, 1, out=a)\n",
        "print(a)\n",
        "print(b)"
      ],
      "execution_count": 20,
      "outputs": [
        {
          "output_type": "stream",
          "text": [
            "[2. 2. 2. 2. 2.]\n",
            "tensor([2., 2., 2., 2., 2.], dtype=torch.float64)\n"
          ],
          "name": "stdout"
        }
      ]
    },
    {
      "cell_type": "code",
      "metadata": {
        "id": "dX7E62JFtV7H",
        "colab_type": "code",
        "colab": {}
      },
      "source": [
        "# let us run this cell only if CUDA is available\n",
        "# We will use ``torch.device`` objects to move tensors in and out of GPU\n",
        "if torch.cuda.is_available():\n",
        "    device = torch.device(\"cuda\")          # a CUDA device object\n",
        "    y = torch.ones_like(x, device=device)  # directly create a tensor on GPU\n",
        "    x = x.to(device)                       # or just use strings ``.to(\"cuda\")``\n",
        "    z = x + y\n",
        "    print(z)\n",
        "    print(z.to(\"cpu\", torch.double))       # ``.to`` can also change dtype together!\n"
      ],
      "execution_count": 0,
      "outputs": []
    },
    {
      "cell_type": "code",
      "metadata": {
        "id": "VW-pQK0JtiXv",
        "colab_type": "code",
        "colab": {}
      },
      "source": [
        ""
      ],
      "execution_count": 0,
      "outputs": []
    }
  ]
}